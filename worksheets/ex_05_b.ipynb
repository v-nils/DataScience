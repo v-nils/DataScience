{
 "cells": [
  {
   "cell_type": "code",
   "metadata": {
    "ExecuteTime": {
     "end_time": "2024-05-09T08:41:00.783325Z",
     "start_time": "2024-05-09T08:40:56.530076Z"
    }
   },
   "source": [
    "import numpy as np\n",
    "import pymc\n",
    "import matplotlib.pyplot as plt\n",
    "from scipy.fftpack import dct, idct\n",
    "from sklearn.linear_model import Lasso\n",
    "\n",
    "import pandas as pd\n",
    "import numpy as np\n",
    "import matplotlib.pyplot as plt\n",
    "from sklearn.gaussian_process import GaussianProcessRegressor\n",
    "from sklearn.gaussian_process.kernels import RBF"
   ],
   "execution_count": 3,
   "outputs": []
  },
  {
   "cell_type": "markdown",
   "metadata": {},
   "source": [
    "# 1) Bayesian linear Regression"
   ]
  },
  {
   "cell_type": "code",
   "metadata": {
    "ExecuteTime": {
     "end_time": "2024-05-09T08:42:36.784718Z",
     "start_time": "2024-05-09T08:42:36.507536Z"
    }
   },
   "source": [
    "# Define the high-resolution signal\n",
    "D = 4096 # resolution\n",
    "t_hr = np.linspace(0, 1, D) # high resolution time grid\n",
    "x_fct = lambda t: np.cos(29 * 2.0 * np.pi * t) \\\n",
    "+ np.cos(41 * 2.0 * np.pi * t) \\\n",
    "+ np.cos(503 * 2.0 * np.pi * t)\n",
    "# Nyquist-Shannon: -> 2 * 503 samples / s necessary\n",
    "x = x_fct(t_hr) # high resolution signal\n",
    "x_f = np.fft.fft(x)\n",
    "psd = x_f * x_f.conj() / D # power spectral density\n",
    "\n",
    "# Get a random subsample of the signal\n",
    "S = 128\n",
    "sample_inds = np.random.choice(D, size=S, replace=False)\n",
    "t_lr = t_hr[sample_inds]\n",
    "y = x[sample_inds]\n",
    "\n",
    "# Define DCT matrix\n",
    "Psi = dct(np.eye(D)) # DCT matrix\n",
    "\n",
    "# Take random measurements\n",
    "Phi = Psi[sample_inds, :] # measure rows of Psi\n",
    "\n",
    "# Equivalently\n",
    "# C = np.zeros((S, D))\n",
    "# C[np.arange(S), sample_inds] = 1\n",
    "# Phi = C @ Psi\n",
    "\n",
    "# Define a Lasso optimizer and fit\n",
    "lasso = Lasso(alpha=0.001)\n",
    "lasso.fit(Phi, y)\n",
    "theta_star = lasso.coef_ # Lasso best-fit parameters\n",
    "x_recon = idct(theta_star) # convert from DCT to time domain\n",
    "x_recon_f = np.fft.fft(x_recon)\n",
    "psd_recon = x_recon_f * x_recon_f.conj() / D\n"
   ],
   "execution_count": 4,
   "outputs": []
  },
  {
   "cell_type": "code",
   "metadata": {
    "scrolled": true,
    "ExecuteTime": {
     "end_time": "2024-05-09T08:43:37.019207Z",
     "start_time": "2024-05-09T08:43:36.384385Z"
    }
   },
   "source": [
    "import numpy as np\n",
    "import pymc as pm\n",
    "import matplotlib.pyplot as plt\n",
    "\n",
    "# Define true parameters\n",
    "true_intercept = 1\n",
    "true_slope = 2\n",
    "\n",
    "# Generate data\n",
    "np.random.seed(0)\n",
    "x_50 = np.linspace(0, 10, 50)\n",
    "y_50 = true_intercept + true_slope * x_50 + np.random.normal(scale=2, size=len(x_50))\n",
    "\n",
    "x_1000 = np.linspace(0, 10, 1000)\n",
    "y_1000 = true_intercept + true_slope * x_1000 + np.random.normal(scale=2, size=len(x_1000))\n",
    "\n",
    "# Define Bayesian linear regression model\n",
    "def bayesian_linear_regression(x, y):\n",
    "    with pm.Model():\n",
    "        # Priors\n",
    "        alpha = pm.Normal('alpha', mu=0, tau=1.0 / (10**2))\n",
    "        beta = pm.Normal('beta', mu=0, tau=1.0 / (10**2))\n",
    "        sigma = pm.HalfNormal('sigma', tau=1.0 / (1**2))\n",
    "\n",
    "        # Expected value of outcome\n",
    "        mu = pm.Deterministic('mu', alpha + beta * x)\n",
    "\n",
    "        # Likelihood\n",
    "        likelihood = pm.Normal('y', mu=mu, tau=1.0 / (sigma**2), observed=y)\n",
    "\n",
    "        # Sample posterior distribution\n",
    "        trace = pm.sample(20000, burn=1000)\n",
    "\n",
    "    return trace\n",
    "\n",
    "# Perform Bayesian linear regression for sample size of 50\n",
    "trace_50 = bayesian_linear_regression(x_50, y_50)\n",
    "\n",
    "# Perform Bayesian linear regression for sample size of 1000\n",
    "trace_1000 = bayesian_linear_regression(x_1000, y_1000)\n",
    "\n",
    "# Plot posterior samples\n",
    "plt.figure(figsize=(12, 6))\n",
    "\n",
    "plt.subplot(2, 2, 1)\n",
    "plt.hist(trace_50['alpha'], bins=30, density=True)\n",
    "plt.title('Posterior Distribution of Intercept (Sample Size: 50)')\n",
    "\n",
    "plt.subplot(2, 2, 2)\n",
    "plt.hist(trace_50['beta'], bins=30, density=True)\n",
    "plt.title('Posterior Distribution of Slope (Sample Size: 50)')\n",
    "\n",
    "plt.subplot(2, 2, 3)\n",
    "plt.hist(trace_1000['alpha'], bins=30, density=True)\n",
    "plt.title('Posterior Distribution of Intercept (Sample Size: 1000)')\n",
    "\n",
    "plt.subplot(2, 2, 4)\n",
    "plt.hist(trace_1000['beta'], bins=30, density=True)\n",
    "plt.title('Posterior Distribution of Slope (Sample Size: 1000)')\n",
    "\n",
    "plt.tight_layout()\n",
    "plt.show()\n"
   ],
   "execution_count": 8,
   "outputs": []
  },
  {
   "cell_type": "markdown",
   "metadata": {},
   "source": [
    "# 2) Stellar activity 1"
   ]
  },
  {
   "cell_type": "markdown",
   "metadata": {},
   "source": [
    "a) Load and plot the stellar activity data"
   ]
  },
  {
   "cell_type": "code",
   "metadata": {
    "ExecuteTime": {
     "end_time": "2024-05-09T08:43:25.467441Z",
     "start_time": "2024-05-09T08:43:25.254390Z"
    }
   },
   "source": [
    "import numpy as np\n",
    "import matplotlib.pyplot as plt\n",
    "\n",
    "# Load data\n",
    "data = np.loadtxt('../data/raw_data/HD166724.txt', delimiter=';', skiprows=1, usecols=(2, 3))  # Load columns 2 and 3 (time and s-index)\n",
    "time = data[:, 0]\n",
    "activity = data[:, 1]\n",
    "\n",
    "# Plot data\n",
    "plt.figure(figsize=(10, 6))\n",
    "plt.plot(time, activity, marker='o', linestyle='-', color='b')\n",
    "plt.xlabel('Time')\n",
    "plt.ylabel('Stellar Activity (s-index)')\n",
    "plt.title('Stellar Activity (s-index) vs Time')\n",
    "plt.grid(True)\n",
    "plt.show()\n"
   ],
   "execution_count": 7,
   "outputs": []
  },
  {
   "cell_type": "markdown",
   "metadata": {},
   "source": [
    "b) Choose and explain Kernel: We'll choose the squared exponential kernel for this task. This kernel is commonly used for Gaussian processes due to its smoothness properties and ability to model smooth functions. The squared exponential kernel itself doesn't enforce the requirement for the data to be centered at zero. However, in Gaussian processes, centering the data at zero can be a common preprocessing step to simplify the interpretation of the kernel hyperparameters. When we center the data at zero, we effectively assume that the mean function is zero. This simplifies the interpretation of the kernel hyperparameters because the lengthscale parameter of the squared exponential kernel then directly controls the smoothness of the function, and the variance parameter controls the overall magnitude of the function. So, while the squared exponential kernel doesn't explicitly require the data to be centered at zero, centering the data at zero can often make it easier to interpret and tune the hyperparameters of the kernel, particularly when using Gaussian processes. However, it's not strictly necessary, and the choice depends on the specific context and requirements of the problem."
   ]
  },
  {
   "cell_type": "markdown",
   "metadata": {},
   "source": [
    "c) Apply Gaussian Processes and Plot Samples: We use Gaussian processes to draw samples from the posterior distribution using the squared exponential kernel. Then, we'll plot the mean predictions based on the samples."
   ]
  },
  {
   "cell_type": "markdown",
   "metadata": {},
   "source": [
    "(d) Explore Hyperparameters Influence: We explore how varying the hyperparameters (σ_f^2 and l) of the squared exponential kernel influences the confidence level of the mean predictions."
   ]
  },
  {
   "cell_type": "code",
   "metadata": {
    "ExecuteTime": {
     "end_time": "2024-05-09T08:44:01.154054Z",
     "start_time": "2024-05-09T08:43:57.714200Z"
    }
   },
   "source": [
    "from sklearn.gaussian_process import GaussianProcessRegressor\n",
    "from sklearn.gaussian_process.kernels import RBF\n",
    "\n",
    "# Define kernel (squared exponential)\n",
    "kernel = 1.0 * RBF(length_scale=1.0)\n",
    "\n",
    "# Apply Gaussian process\n",
    "gp = GaussianProcessRegressor(kernel=kernel, n_restarts_optimizer=10)\n",
    "gp.fit(time.reshape(-1, 1), activity)\n",
    "print(type(time))\n",
    "\n",
    "# Draw samples from the posterior distribution\n",
    "n_samples = 5\n",
    "x_pred = np.linspace(min(time), max(time), 1000).reshape(-1, 1)\n",
    "y_pred, y_std = gp.predict(x_pred, return_std=True)\n",
    "samples = gp.sample_y(x_pred, n_samples)\n",
    "\n",
    "# Plot mean predictions and samples\n",
    "plt.figure(figsize=(15, 6))\n",
    "plt.plot(x_pred, y_pred, color='red', label='Mean Prediction')\n",
    "plt.fill_between(x_pred.ravel(), y_pred - y_std, y_pred + y_std, color='pink', alpha=0.3, label='Confidence Interval')\n",
    "for i in range(n_samples):\n",
    "    plt.plot(x_pred, samples[:, i], linestyle='--', label=f'Sample {i+1}')\n",
    "plt.scatter(time, activity, color='blue', label='Data')\n",
    "plt.xlabel('Time')\n",
    "plt.ylabel('Stellar Activity (s-index)')\n",
    "plt.title('Mean Prediction with Samples')\n",
    "plt.legend()\n",
    "plt.grid(True)\n",
    "plt.show()\n"
   ],
   "execution_count": 9,
   "outputs": []
  },
  {
   "cell_type": "markdown",
   "metadata": {},
   "source": [
    "# 2) Stellar Activity 2"
   ]
  },
  {
   "cell_type": "markdown",
   "metadata": {},
   "source": [
    "To analyze the temporal evolution of the Sun's stellar activity and investigate if there's any resemblance to the 11-year sunspot cycle, we'll follow a similar approach as in exercise 2 (a) to (d) but using the \"Sun.csv\" dataset. "
   ]
  },
  {
   "cell_type": "code",
   "metadata": {
    "ExecuteTime": {
     "end_time": "2024-05-09T08:44:33.094952Z",
     "start_time": "2024-05-09T08:44:32.754628Z"
    }
   },
   "source": [
    "# Load data\n",
    "data = np.loadtxt('../data/raw_data/Sun.csv', delimiter=',', skiprows=1, dtype=float) \n",
    "time = data[:, 0]\n",
    "activity = data[:, 1]\n",
    "\n",
    "# Plot data\n",
    "plt.figure(figsize=(16, 6))\n",
    "plt.plot(time, activity, marker='o', ms=2, linestyle='-', color='b')\n",
    "plt.xlabel('Time (Julian Date)')\n",
    "plt.xlim((2439596,2448500))\n",
    "plt.ylabel('Stellar Activity (s-index)')\n",
    "plt.title('Stellar Activity (s-index) vs Time (Sun)')\n",
    "plt.grid(True)\n",
    "plt.show()\n"
   ],
   "execution_count": 12,
   "outputs": []
  },
  {
   "cell_type": "code",
   "metadata": {
    "jupyter": {
     "is_executing": true
    },
    "ExecuteTime": {
     "start_time": "2024-05-09T08:44:37.905341Z"
    }
   },
   "source": [
    "from sklearn.gaussian_process import GaussianProcessRegressor\n",
    "from sklearn.gaussian_process.kernels import RBF\n",
    "\n",
    "# Define kernel (squared exponential)\n",
    "kernel = 1.0 * RBF(length_scale=1.0)\n",
    "\n",
    "print(type(time),type(activity))\n",
    "# Apply Gaussian process\n",
    "gp = GaussianProcessRegressor(kernel=kernel, n_restarts_optimizer=10)\n",
    "gp.fit(time.reshape(-1, 1), activity)\n",
    "print(type(time),type(activity))\n",
    "\n",
    "\n",
    "\n",
    "# Draw samples from the posterior distribution\n",
    "n_samples = 5\n",
    "x_pred = np.linspace(min(time), max(time), 1000).reshape(-1, 1)\n",
    "y_pred, y_std = gp.predict(x_pred, return_std=True)\n",
    "samples = gp.sample_y(x_pred, n_samples)\n"
   ],
   "execution_count": null,
   "outputs": []
  },
  {
   "cell_type": "code",
   "execution_count": null,
   "metadata": {},
   "source": [
    "# Plot mean predictions and samples\n",
    "plt.figure(figsize=(15, 6))\n",
    "plt.plot(x_pred, y_pred, color='red', label='Mean Prediction',alpha=1)\n",
    "plt.fill_between(x_pred.ravel(), y_pred - y_std, y_pred + y_std, color='pink', alpha=0.5, label='Confidence Interval')\n",
    "for i in range(n_samples):\n",
    "    plt.plot(x_pred, samples[:, i], linestyle='--', label=f'Sample {i+1}',alpha=0.5)\n",
    "plt.scatter(time, activity, color='blue', label='Data')\n",
    "plt.xlabel('Time')\n",
    "plt.ylabel('Stellar Activity (s-index)')\n",
    "plt.title('Mean Prediction with Samples')\n",
    "plt.legend()\n",
    "plt.grid(True)\n",
    "plt.show()\n",
    "\n",
    "\n"
   ],
   "outputs": []
  },
  {
   "cell_type": "markdown",
   "metadata": {},
   "source": [
    "The mean of the posterior distribution in Gaussian Process Regression (GPR) represents the predicted average value of the target variable (in this case, stellar activity or s-index) at each point in time, given the observed data and the learned model.\n",
    "\n",
    "Regarding the temporal evolution of the data, if the mean of the posterior distribution shows periodic behavior over time, it suggests that there is a pattern or cycle in the data. In the context of solar activity, the 11-year sunspot cycle is a well-known periodic phenomenon. Sunspots are dark spots on the Sun's surface associated with strong magnetic activity, and their numbers vary cyclically over approximately 11 years.\n",
    "\n",
    "If the mean of the posterior distribution exhibits a similar periodic pattern to the 11-year sunspot cycle, it would indicate that the Gaussian process model has captured the underlying temporal structure in the data, potentially reflecting the periodic nature of solar activity. This resemblance would suggest that the model is effectively capturing the cyclic behavior inherent in the data, similar to the known sunspot cycle.\n",
    "\n",
    "However, it's important to note that the presence of a periodic pattern in the mean of the posterior distribution doesn't necessarily imply a direct resemblance to the 11-year sunspot cycle. Other factors and phenomena can also contribute to temporal patterns in stellar activity data. Further analysis and comparison with known solar phenomena would be necessary to establish a definitive connection."
   ]
  },
  {
   "cell_type": "code",
   "execution_count": null,
   "metadata": {},
   "source": [],
   "outputs": []
  }
 ],
 "metadata": {
  "kernelspec": {
   "display_name": "Python 3",
   "language": "python",
   "name": "python3"
  },
  "language_info": {
   "codemirror_mode": {
    "name": "ipython",
    "version": 3
   },
   "file_extension": ".py",
   "mimetype": "text/x-python",
   "name": "python",
   "nbconvert_exporter": "python",
   "pygments_lexer": "ipython3",
   "version": "3.8.3"
  }
 },
 "nbformat": 4,
 "nbformat_minor": 4
}
