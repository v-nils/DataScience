{
 "cells": [
  {
   "metadata": {},
   "cell_type": "markdown",
   "source": [
    "# Exoplanet classification with a Convolutional Neural Network\n",
    "\n",
    "## Background\n",
    "In this exercise we will use light transit curves of NASA's Kepler mission to classify exoplanets. The dataset includes time profiles of the flux-density of stars observed by the Kepler telescope. While stars without exoplanets show a regular, stable flux-density, the flux-density of stars with exoplanets show characteristic dips in brightness, as an exoplanet passes in front of the star. The animation below illustrates this effect.\n",
    "\n",
    "<div style=\"text-align: center\">\n",
    "    <img src=\"../data/supplementary_data/Exoplanet_Animation_Transit_Light_Curve_appletv.gif\">\n",
    "    <p>Source: <a href=\"https://science.nasa.gov/resource/transit-light-curve/\">NASA</a></p>\n",
    "</div>\n",
    "\n",
    "## Aim of the exercise\n",
    "The aim of this exercise is to classify light transit curves of stars observed by the Kepler telescope into two classes: stars with exoplanets and stars without exoplanets. We will use labelled data of light-transit curves of stars, with and without exoplanets, to train a Convolutional Neural Network (CNN) to classify the light-transit curves.\n",
    "\n",
    "## Data Analysis\n",
    "First we create a class, which we will use to load, explore and preprocess the data:"
   ],
   "id": "726fc50a0e85fd1"
  },
  {
   "metadata": {},
   "cell_type": "code",
   "outputs": [],
   "execution_count": null,
   "source": [
    "from dataclasses import dataclass\n",
    "import pandas as pd\n",
    "\n",
    "\n",
    "@dataclass\n",
    "class KeplerCurves:\n",
    "    \"\"\"\n",
    "    Data class that contains the light transit curves.\n",
    "    \"\"\"\n",
    "    \n",
    "    train_data: pd.DataFrame\n",
    "    test_data: pd.DataFrame\n",
    "    \n",
    "    @classmethod\n",
    "    def from_csv(cls, train_path: str, test_path: str | None = None):\n",
    "        \"\"\"\n",
    "        Load the data from csv files.\n",
    "        \n",
    "        :param train_path: Path to the training data.\n",
    "        :param test_path: Path to the test data.\n",
    "        \"\"\"\n",
    "        cls.train_data = pd.read_csv(train_path)\n",
    "        cls.test_data = pd.read_csv(test_path)\n",
    "        \n",
    "    \n",
    "    @classmethod\n",
    "    def generate_test_data(cls, n_samples: int):\n",
    "        \"\"\"\n",
    "        Generate test data from the training data.\n",
    "        \n",
    "        :param n_samples: Number of samples to generate.\n",
    "        \"\"\"\n",
    "        \n",
    "        cls.test_data = cls.train_data.sample(n_samples)\n",
    "        cls.train_data = cls.train_data.drop(cls.test_data.index)\n",
    "    \n",
    "    "
   ],
   "id": "15f90f9d1a00363"
  }
 ],
 "metadata": {
  "kernelspec": {
   "display_name": "Python 3",
   "language": "python",
   "name": "python3"
  },
  "language_info": {
   "codemirror_mode": {
    "name": "ipython",
    "version": 2
   },
   "file_extension": ".py",
   "mimetype": "text/x-python",
   "name": "python",
   "nbconvert_exporter": "python",
   "pygments_lexer": "ipython2",
   "version": "2.7.6"
  }
 },
 "nbformat": 4,
 "nbformat_minor": 5
}
